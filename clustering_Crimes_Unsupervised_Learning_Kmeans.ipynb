{
 "cells": [
  {
   "cell_type": "markdown",
   "id": "edf5a686-4982-429b-8165-6c93a6b29f0d",
   "metadata": {},
   "source": [
    "# 1. Data preprocessing and visualization"
   ]
  },
  {
   "cell_type": "markdown",
   "id": "63fffec1-601c-4981-8c5a-4c38da1e0850",
   "metadata": {},
   "source": [
    "## 1.1. Importing libraries and dataset"
   ]
  },
  {
   "cell_type": "code",
   "execution_count": null,
   "id": "d44fe89d-6270-4acd-a9c0-be71aab7c745",
   "metadata": {},
   "outputs": [],
   "source": [
    "import pandas as pd\n",
    "import matplotlib.pyplot as plt\n",
    "import numpy as np\n",
    "import seaborn as sns\n",
    "import warnings\n",
    "warnings.filterwarnings('ignore')"
   ]
  },
  {
   "cell_type": "code",
   "execution_count": null,
   "id": "ff24203b-799d-4188-82d8-e4d206c3242b",
   "metadata": {},
   "outputs": [],
   "source": [
    "dataset = pd.read_csv('crimes.csv',sep =';')\n",
    "dataset.head()"
   ]
  },
  {
   "cell_type": "code",
   "execution_count": null,
   "id": "21ade1e3-95f8-4839-b45c-419b753646aa",
   "metadata": {},
   "outputs": [],
   "source": [
    "dataset.shape"
   ]
  },
  {
   "cell_type": "markdown",
   "id": "03d62ec8-0469-4327-90e3-ef75df0024cc",
   "metadata": {},
   "source": [
    "## 1.2. Statistical description"
   ]
  },
  {
   "cell_type": "code",
   "execution_count": null,
   "id": "fe9e0dcb-685c-40d9-b647-e72ddf0cdb5a",
   "metadata": {},
   "outputs": [],
   "source": [
    "dataset.describe()"
   ]
  },
  {
   "cell_type": "markdown",
   "id": "d427f928-2558-4c5e-8f46-a529fdb997cd",
   "metadata": {},
   "source": [
    "## 1.3. Boxplot"
   ]
  },
  {
   "cell_type": "code",
   "execution_count": null,
   "id": "1971279d-0a06-451f-89d8-2e7b89f84632",
   "metadata": {},
   "outputs": [],
   "source": [
    "sns.set(style = 'whitegrid')\n",
    "sns.boxplot(data = dataset)\n",
    "plt.show()"
   ]
  },
  {
   "cell_type": "code",
   "execution_count": null,
   "id": "0ab10385-ddc8-4857-8257-28806b95578f",
   "metadata": {},
   "outputs": [],
   "source": [
    "dataset[dataset['Viol'] > 2300]"
   ]
  },
  {
   "cell_type": "markdown",
   "id": "b67df231-487d-4603-b367-f5c76ad479ac",
   "metadata": {},
   "source": [
    "## 1.4. Scatterplot variables"
   ]
  },
  {
   "cell_type": "code",
   "execution_count": null,
   "id": "0b05481f-a556-4a79-94f4-59641d987d5a",
   "metadata": {},
   "outputs": [],
   "source": [
    "sns.pairplot(dataset)\n",
    "plt.show()"
   ]
  },
  {
   "cell_type": "markdown",
   "id": "86a5f9b2-6c3d-4367-b55f-7668ff86edc3",
   "metadata": {},
   "source": [
    "## 1.5. Correlation"
   ]
  },
  {
   "cell_type": "code",
   "execution_count": null,
   "id": "7d785568-68fe-4f90-9d86-f396e2b749ab",
   "metadata": {},
   "outputs": [],
   "source": [
    "correlations = dataset.corr(method = 'pearson')\n",
    "correlations"
   ]
  },
  {
   "cell_type": "code",
   "execution_count": null,
   "id": "ce8e8c2b-9341-4257-ae16-36d1d9c52398",
   "metadata": {},
   "outputs": [],
   "source": [
    "f, ax = plt.subplots(figsize=(5,5))\n",
    "sns.heatmap(correlations, annot =True)\n",
    "plt.show()"
   ]
  },
  {
   "cell_type": "markdown",
   "id": "97c006f1-7119-4abe-a3db-917a0d614165",
   "metadata": {},
   "source": [
    "## 1.6. Independent variables and labels"
   ]
  },
  {
   "cell_type": "code",
   "execution_count": null,
   "id": "431f1713-493a-4bd4-8193-a6156711022f",
   "metadata": {},
   "outputs": [],
   "source": [
    "X = dataset.iloc[:, 1:8].values\n",
    "labels = dataset.iloc[:,0].values\n",
    "print(labels)"
   ]
  },
  {
   "cell_type": "markdown",
   "id": "a5fbfbc6-fa09-4dc4-aadc-9402d399e97b",
   "metadata": {},
   "source": [
    "## 1.7. Principal Component Analysis (PCA) and standardization"
   ]
  },
  {
   "cell_type": "code",
   "execution_count": null,
   "id": "310f1b88-9674-493d-8452-070376c2d58f",
   "metadata": {},
   "outputs": [],
   "source": [
    "from IPython.display import Image\n",
    "Image('pca.png')"
   ]
  },
  {
   "cell_type": "code",
   "execution_count": null,
   "id": "d4135ec3-6263-449b-ad06-bb20cb524672",
   "metadata": {},
   "outputs": [],
   "source": [
    "from sklearn.decomposition import PCA\n",
    "from sklearn.preprocessing import StandardScaler"
   ]
  },
  {
   "cell_type": "code",
   "execution_count": null,
   "id": "cfa915ce-8e0b-4a19-ab15-37a31a6c761e",
   "metadata": {},
   "outputs": [],
   "source": [
    "scaler = StandardScaler()\n",
    "X_scaler = scaler.fit_transform(X)\n",
    "pca = PCA(n_components=None)\n",
    "X_pca = pca.fit_transform(X_scaler)"
   ]
  },
  {
   "cell_type": "code",
   "execution_count": null,
   "id": "e8fd5448-31cf-424d-ba5b-f40d0d16cd6c",
   "metadata": {},
   "outputs": [],
   "source": [
    "print(pca.explained_variance_ratio_)"
   ]
  },
  {
   "cell_type": "code",
   "execution_count": null,
   "id": "9ba4ccdb-1980-43a8-91f0-484fc26b64fc",
   "metadata": {},
   "outputs": [],
   "source": [
    "sum(pca.explained_variance_ratio_[:2])"
   ]
  },
  {
   "cell_type": "code",
   "execution_count": null,
   "id": "0bd6495a-c0b7-4ade-a3ab-3ec09d08d5c4",
   "metadata": {},
   "outputs": [],
   "source": [
    "X_pca.shape"
   ]
  },
  {
   "cell_type": "code",
   "execution_count": null,
   "id": "b632cfcd-9927-4570-a1ff-139ad9837dbe",
   "metadata": {},
   "outputs": [],
   "source": [
    "X_pca[0,:]"
   ]
  },
  {
   "cell_type": "markdown",
   "id": "97f5fe69-92ee-4fc8-bb37-46638ce29aa3",
   "metadata": {},
   "source": [
    "## 1.8. Visualization"
   ]
  },
  {
   "cell_type": "code",
   "execution_count": null,
   "id": "dd87d423-023c-4a6b-86f0-c4b45bc535f8",
   "metadata": {},
   "outputs": [],
   "source": [
    "plt.scatter(X_pca[:,0],X_pca[:,1])\n",
    "for label, x,y in zip(labels,X_pca[:,0],X_pca[:,1]):\n",
    "    plt.annotate(label, xy=(x,y))\n",
    "plt.xlabel('PCA1')\n",
    "plt.ylabel('PCA2')\n",
    "plt.show()"
   ]
  },
  {
   "cell_type": "markdown",
   "id": "ca901d32-e738-41de-a430-a93e36e4614f",
   "metadata": {},
   "source": [
    "# 2. KMeans Clustering"
   ]
  },
  {
   "cell_type": "markdown",
   "id": "ab9e9683-14be-43c4-b80f-57cbe3a6e65d",
   "metadata": {},
   "source": [
    "## 2.2. Make KMeans"
   ]
  },
  {
   "cell_type": "code",
   "execution_count": null,
   "id": "48216fba-513d-424e-89fa-bab3ccf321f8",
   "metadata": {},
   "outputs": [],
   "source": [
    "from sklearn.cluster import KMeans"
   ]
  },
  {
   "cell_type": "code",
   "execution_count": null,
   "id": "87f09b1b-2d0a-4d87-8db1-d78153bdce3b",
   "metadata": {},
   "outputs": [],
   "source": [
    "wcss = []\n",
    "for k in range(1,11):\n",
    "    kmeans = KMeans(n_clusters=k,init='k-means++',random_state=0)\n",
    "    kmeans.fit(X)\n",
    "    wcss.append(kmeans.inertia_)"
   ]
  },
  {
   "cell_type": "code",
   "execution_count": null,
   "id": "b987b058-2cd2-4e0b-92b5-20bd56298942",
   "metadata": {},
   "outputs": [],
   "source": [
    "wcss"
   ]
  },
  {
   "cell_type": "code",
   "execution_count": null,
   "id": "2c114398-e49f-424b-bb4f-6f24dabb3dbf",
   "metadata": {},
   "outputs": [],
   "source": [
    "plt.plot(range(1,11),wcss, 'bx-')\n",
    "plt.title('The Elbow method')\n",
    "plt.xlabel('Number of clusters')\n",
    "plt.ylabel('WCSS')\n",
    "plt.show()"
   ]
  },
  {
   "cell_type": "code",
   "execution_count": null,
   "id": "24715fef-2e01-484b-aa5c-44643cc4af4c",
   "metadata": {},
   "outputs": [],
   "source": [
    "from kneed import KneeLocator"
   ]
  },
  {
   "cell_type": "code",
   "execution_count": null,
   "id": "852ec10f-6758-435b-9249-ae87693ac31e",
   "metadata": {},
   "outputs": [],
   "source": [
    "k = KneeLocator(range(1,11),wcss, curve = 'convex', direction = 'decreasing')\n",
    "k.elbow"
   ]
  },
  {
   "cell_type": "code",
   "execution_count": null,
   "id": "fde65b12-e5ec-4187-b9b3-6c3b84bcac25",
   "metadata": {},
   "outputs": [],
   "source": [
    "k.plot_knee()\n",
    "plt.show()"
   ]
  },
  {
   "cell_type": "code",
   "execution_count": null,
   "id": "431cb8a9-b4d5-4092-892e-c5b276417d9a",
   "metadata": {},
   "outputs": [],
   "source": [
    "kmeans = KMeans(n_clusters=4,init='k-means++',random_state=0)\n",
    "kmeans.fit(X)"
   ]
  },
  {
   "cell_type": "code",
   "execution_count": null,
   "id": "3aeb080a-3b07-496d-bd55-58c6e5c93d79",
   "metadata": {},
   "outputs": [],
   "source": [
    "y_kmeans = kmeans.labels_\n",
    "y_kmeans"
   ]
  },
  {
   "cell_type": "code",
   "execution_count": null,
   "id": "5453409b-e95a-48e0-bee6-a6242ff1d4fc",
   "metadata": {},
   "outputs": [],
   "source": [
    "dataset.head()"
   ]
  },
  {
   "cell_type": "markdown",
   "id": "453516b2-c3ed-4c62-ac42-46bdf6bbeb30",
   "metadata": {},
   "source": [
    "## 1.3. Clusters visualization"
   ]
  },
  {
   "cell_type": "code",
   "execution_count": null,
   "id": "c9d54b51-8dab-432b-b9d3-1b354965bf54",
   "metadata": {},
   "outputs": [],
   "source": [
    "plt.scatter(X_pca[y_kmeans==0,0],X_pca[y_kmeans==0,1], c='red',label='Cluster 0')\n",
    "plt.scatter(X_pca[y_kmeans==1,0],X_pca[y_kmeans==1,1], c='blue',label='Cluster 1')\n",
    "plt.scatter(X_pca[y_kmeans==2,0],X_pca[y_kmeans==2,1], c='green',label='Cluster 2')\n",
    "plt.scatter(X_pca[y_kmeans==3,0],X_pca[y_kmeans==3,1], c='yellow',label='Cluster 3')\n",
    "for label, x,y in zip(labels,X_pca[:,0],X_pca[:,1]):\n",
    "    plt.annotate(label, xy=(x,y))\n",
    "plt.xlabel('PCA1')\n",
    "plt.ylabel('PCA2')\n",
    "plt.title('Clustering with X')\n",
    "plt.legend()\n",
    "plt.show()"
   ]
  },
  {
   "cell_type": "code",
   "execution_count": null,
   "id": "2f530a41-8822-4659-adc5-f395a34ad43d",
   "metadata": {},
   "outputs": [],
   "source": [
    "kmeans2 = KMeans(n_clusters=4,init='k-means++',random_state=0)\n",
    "kmeans2.fit(X_scaler)"
   ]
  },
  {
   "cell_type": "code",
   "execution_count": null,
   "id": "dc765df5-b8de-4455-87bf-5f7c51389daf",
   "metadata": {},
   "outputs": [],
   "source": [
    "y_kmeans_sc = kmeans2.labels_\n",
    "y_kmeans_sc"
   ]
  },
  {
   "cell_type": "code",
   "execution_count": null,
   "id": "b4f37b95-43e5-4aee-9cb1-154c475c9f45",
   "metadata": {},
   "outputs": [],
   "source": [
    "plt.scatter(X_pca[y_kmeans_sc==0,0],X_pca[y_kmeans_sc==0,1], c='red',label='Cluster 0')\n",
    "plt.scatter(X_pca[y_kmeans_sc==1,0],X_pca[y_kmeans_sc==1,1], c='blue',label='Cluster 1')\n",
    "plt.scatter(X_pca[y_kmeans_sc==2,0],X_pca[y_kmeans_sc==2,1], c='green',label='Cluster 2')\n",
    "plt.scatter(X_pca[y_kmeans_sc==3,0],X_pca[y_kmeans_sc==3,1], c='yellow',label='Cluster 3')\n",
    "for label, x,y in zip(labels,X_pca[:,0],X_pca[:,1]):\n",
    "    plt.annotate(label, xy=(x,y))\n",
    "plt.xlabel('PCA1')\n",
    "plt.ylabel('PCA2')\n",
    "plt.title('Clustering with X_scaler')\n",
    "plt.legend()\n",
    "plt.show()"
   ]
  },
  {
   "cell_type": "code",
   "execution_count": null,
   "id": "de28e34c-fbcc-4aa3-b1af-9073a4a58ab8",
   "metadata": {},
   "outputs": [],
   "source": [
    "kmeans3 = KMeans(n_clusters=4,init='k-means++',random_state=0)\n",
    "kmeans3.fit(X_pca)"
   ]
  },
  {
   "cell_type": "code",
   "execution_count": null,
   "id": "83e9d8c8-c142-4cb7-a8e2-d4b49cdc679b",
   "metadata": {},
   "outputs": [],
   "source": [
    "y_kmeans_pca = kmeans3.labels_\n",
    "y_kmeans_pca"
   ]
  },
  {
   "cell_type": "code",
   "execution_count": null,
   "id": "17fd2554-14f3-4fd6-ae2c-cd85b413cdd8",
   "metadata": {},
   "outputs": [],
   "source": [
    "plt.scatter(X_pca[y_kmeans_pca==0,0],X_pca[y_kmeans_pca==0,1], c='red',label='Cluster 0')\n",
    "plt.scatter(X_pca[y_kmeans_pca==1,0],X_pca[y_kmeans_pca==1,1], c='blue',label='Cluster 1')\n",
    "plt.scatter(X_pca[y_kmeans_pca==2,0],X_pca[y_kmeans_pca==2,1], c='green',label='Cluster 2')\n",
    "plt.scatter(X_pca[y_kmeans_pca==3,0],X_pca[y_kmeans_pca==3,1], c='yellow',label='Cluster 3')\n",
    "for label, x,y in zip(labels,X_pca[:,0],X_pca[:,1]):\n",
    "    plt.annotate(label, xy=(x,y))\n",
    "plt.xlabel('PCA1')\n",
    "plt.ylabel('PCA2')\n",
    "plt.title('Clustering with X_pca')\n",
    "plt.legend()\n",
    "plt.show()"
   ]
  },
  {
   "cell_type": "code",
   "execution_count": null,
   "id": "d6947988-ce7a-489e-9098-8d422d02c23d",
   "metadata": {},
   "outputs": [],
   "source": [
    "sum(y_kmeans_sc - y_kmeans_pca)"
   ]
  },
  {
   "cell_type": "markdown",
   "id": "c57e996f-c2ba-4f5f-9082-986aa7c93fa1",
   "metadata": {},
   "source": [
    "## 1.4. Profiling "
   ]
  },
  {
   "cell_type": "code",
   "execution_count": null,
   "id": "07e232ac-ad80-4a26-859b-da1859b01d30",
   "metadata": {},
   "outputs": [],
   "source": [
    "kmeans2.cluster_centers_.shape"
   ]
  },
  {
   "cell_type": "code",
   "execution_count": null,
   "id": "a1799960-4406-4f1f-b82b-f84608c3b6a5",
   "metadata": {},
   "outputs": [],
   "source": [
    "kmeans2.cluster_centers_"
   ]
  },
  {
   "cell_type": "code",
   "execution_count": null,
   "id": "b97fef3a-4cd9-4e38-bc79-15f23bb8cc29",
   "metadata": {},
   "outputs": [],
   "source": [
    "dataset.columns"
   ]
  },
  {
   "cell_type": "code",
   "execution_count": null,
   "id": "b47fb8b7-878e-4a45-887b-6e3d2887df47",
   "metadata": {},
   "outputs": [],
   "source": [
    "col_names = ['Meutre', 'Rapt', 'Vol', 'Attaque', 'Viol', 'Larcin','Auto_Theft']"
   ]
  },
  {
   "cell_type": "code",
   "execution_count": null,
   "id": "12d996ac-e053-455f-a787-3acc8d6df722",
   "metadata": {},
   "outputs": [],
   "source": [
    "cluster_centers = pd.DataFrame(data = kmeans2.cluster_centers_, columns = col_names)\n",
    "cluster_centers"
   ]
  },
  {
   "cell_type": "code",
   "execution_count": null,
   "id": "80ea0e2b-eaaf-48b5-b7d7-1b2a30041c27",
   "metadata": {},
   "outputs": [],
   "source": [
    "cluster_centers = scaler.inverse_transform(cluster_centers)"
   ]
  },
  {
   "cell_type": "code",
   "execution_count": null,
   "id": "5653e610-1d5b-455c-9dc9-337302a78010",
   "metadata": {},
   "outputs": [],
   "source": [
    "cluster_centers = pd.DataFrame(data = cluster_centers, columns = col_names)\n",
    "cluster_centers"
   ]
  },
  {
   "cell_type": "code",
   "execution_count": null,
   "id": "8b64a35d-9924-4107-b22d-e197e2e84437",
   "metadata": {},
   "outputs": [],
   "source": [
    "dataset.describe()"
   ]
  },
  {
   "cell_type": "markdown",
   "id": "34e59e9d-61fe-45b8-b3c5-51678de6ceb3",
   "metadata": {},
   "source": [
    "## 1.5. Rules extraction "
   ]
  },
  {
   "cell_type": "code",
   "execution_count": null,
   "id": "16463620-8094-4d5e-b820-a45f10ec7c18",
   "metadata": {},
   "outputs": [],
   "source": [
    "dataset_cluster = pd.concat([dataset, pd.DataFrame({'Cluster' : y_kmeans_sc})], axis=1)"
   ]
  },
  {
   "cell_type": "code",
   "execution_count": null,
   "id": "4a76b811-2231-4d77-bc45-c18eed2aea7a",
   "metadata": {},
   "outputs": [],
   "source": [
    "dataset_cluster.head()"
   ]
  },
  {
   "cell_type": "code",
   "execution_count": null,
   "id": "753ea52d-c701-40f3-bd5f-dcdc8842b141",
   "metadata": {},
   "outputs": [],
   "source": [
    "Xc = dataset_cluster.iloc[:,1:8].values\n",
    "yc = dataset_cluster.iloc[:,8].values"
   ]
  },
  {
   "cell_type": "code",
   "execution_count": null,
   "id": "578196d5-3c8f-4198-a445-4433fa6c5097",
   "metadata": {},
   "outputs": [],
   "source": [
    "import graphviz\n",
    "from sklearn import tree\n",
    "from sklearn.tree import DecisionTreeClassifier, export_graphviz"
   ]
  },
  {
   "cell_type": "code",
   "execution_count": null,
   "id": "bf9ba247-b1fb-488f-af6b-9555f31cd05d",
   "metadata": {},
   "outputs": [],
   "source": [
    "model = DecisionTreeClassifier(max_depth = 5)\n",
    "model.fit(Xc,yc)"
   ]
  },
  {
   "cell_type": "code",
   "execution_count": null,
   "id": "1ca2ae23-651a-4824-9a6f-2a10b34a9484",
   "metadata": {},
   "outputs": [],
   "source": [
    "tree.export_graphviz(model, feature_names = col_names, out_file = 'tree.dot', label='all', \n",
    "                     filled = True, rounded = True)"
   ]
  },
  {
   "cell_type": "code",
   "execution_count": null,
   "id": "2a4e90e1-7261-4c19-a8a1-979118e6aa69",
   "metadata": {},
   "outputs": [],
   "source": [
    "Image('tree.png')"
   ]
  },
  {
   "cell_type": "markdown",
   "id": "07e029c9-c981-45c8-9496-496a30211720",
   "metadata": {},
   "source": [
    "# 3. Hierarchical Clustering"
   ]
  },
  {
   "cell_type": "markdown",
   "id": "853f5afb-4c0c-43df-b5f9-a682fc5a9da6",
   "metadata": {},
   "source": [
    "## 3.1. HC intuition "
   ]
  },
  {
   "cell_type": "code",
   "execution_count": null,
   "id": "c542636c-c13c-49a7-94c3-2863d38edc0b",
   "metadata": {},
   "outputs": [],
   "source": [
    "import scipy.cluster.hierarchy as sch\n",
    "dendrogram = sch.dendrogram(sch.linkage(X_scaler, method = 'ward'))\n",
    "plt.title('Dendrogram')\n",
    "plt.xlabel('Clusters')\n",
    "plt.ylabel('Euclidean distance')\n",
    "plt.show()"
   ]
  },
  {
   "cell_type": "code",
   "execution_count": null,
   "id": "2d3c1c04-b4b2-4a46-b504-16337a58b043",
   "metadata": {},
   "outputs": [],
   "source": [
    "from sklearn.cluster import AgglomerativeClustering\n",
    "hc = AgglomerativeClustering(n_clusters = 2, affinity='euclidean',linkage='ward')\n",
    "hc.fit(X_scaler)"
   ]
  },
  {
   "cell_type": "code",
   "execution_count": null,
   "id": "a2451672-13b2-4af3-9314-b87cd65d8dbb",
   "metadata": {},
   "outputs": [],
   "source": [
    "y_hc = hc.labels_\n",
    "y_hc"
   ]
  },
  {
   "cell_type": "code",
   "execution_count": null,
   "id": "5e5b7eb6-96a5-4da5-9f85-882896a4445f",
   "metadata": {},
   "outputs": [],
   "source": [
    "plt.scatter(X_pca[y_hc==0,0],X_pca[y_hc==0,1], c='red',label='Cluster 0')\n",
    "plt.scatter(X_pca[y_hc==1,0],X_pca[y_hc==1,1], c='blue',label='Cluster 1')\n",
    "for label, x,y in zip(labels,X_pca[:,0],X_pca[:,1]):\n",
    "    plt.annotate(label, xy=(x,y))\n",
    "plt.xlabel('PCA1')\n",
    "plt.ylabel('PCA2')\n",
    "plt.title('Clustering with X_pca')\n",
    "plt.legend()\n",
    "plt.show()"
   ]
  },
  {
   "cell_type": "markdown",
   "id": "eafdf42c-3fb7-4ef9-9204-5918dc37bac6",
   "metadata": {},
   "source": [
    "# 4. Silhouette score"
   ]
  },
  {
   "cell_type": "markdown",
   "id": "5c254137-44f7-400f-ac61-8fbf50bc7bbe",
   "metadata": {},
   "source": [
    "https://fr.wikipedia.org/wiki/Silhouette_(clustering)"
   ]
  },
  {
   "cell_type": "code",
   "execution_count": null,
   "id": "0026476e-28c5-4269-a643-bbfe8d67ac9f",
   "metadata": {},
   "outputs": [],
   "source": [
    "from sklearn.metrics import silhouette_score"
   ]
  },
  {
   "cell_type": "code",
   "execution_count": null,
   "id": "550fbbc7-f2a1-4c70-b29a-2dda65b71f56",
   "metadata": {},
   "outputs": [],
   "source": [
    "cluster_range = range(2,11)\n",
    "random_range = range(0,10)\n",
    "\n",
    "silhouette = []\n",
    "for i in cluster_range:\n",
    "    for j in random_range:\n",
    "        cluster = KMeans(n_clusters = i, random_state = j)\n",
    "        cluster.fit(X_scaler)\n",
    "        cluster_labels = cluster.labels_\n",
    "        silhouette_avg = silhouette_score(X_scaler,cluster_labels)\n",
    "        print('For n_clusters = ', i, 'and seed = ',j, 'silhouette avg = ', silhouette_avg)\n",
    "        silhouette.append([i,j,silhouette_avg])"
   ]
  },
  {
   "cell_type": "code",
   "execution_count": null,
   "id": "0ad2f3b2-65f8-4d92-86e3-6cea014b825e",
   "metadata": {},
   "outputs": [],
   "source": [
    "silhouette = pd.DataFrame(silhouette, columns=['n_clusters','seed','silhouette_score'])\n",
    "silhouette"
   ]
  },
  {
   "cell_type": "code",
   "execution_count": null,
   "id": "ee7b617f-7a4f-4ca3-9fd6-ed05465851f1",
   "metadata": {},
   "outputs": [],
   "source": [
    "pivot_silhouette = pd.pivot_table(silhouette,index='n_clusters',columns ='seed', values = 'silhouette_score')\n",
    "pivot_silhouette"
   ]
  },
  {
   "cell_type": "code",
   "execution_count": null,
   "id": "c8456595-5c7c-4b96-948a-71642804f015",
   "metadata": {},
   "outputs": [],
   "source": [
    "plt.figure(figsize=(10,6))\n",
    "sns.heatmap(pivot_silhouette,annot=True, fmt = '.3f', cmap = sns.cm.rocket_r)\n",
    "plt.show()"
   ]
  },
  {
   "cell_type": "code",
   "execution_count": null,
   "id": "7e6b5200-8705-4675-b150-74a25e34ad43",
   "metadata": {},
   "outputs": [],
   "source": []
  }
 ],
 "metadata": {
  "kernelspec": {
   "display_name": "Python 3",
   "language": "python",
   "name": "python3"
  },
  "language_info": {
   "codemirror_mode": {
    "name": "ipython",
    "version": 3
   },
   "file_extension": ".py",
   "mimetype": "text/x-python",
   "name": "python",
   "nbconvert_exporter": "python",
   "pygments_lexer": "ipython3",
   "version": "3.8.11"
  }
 },
 "nbformat": 4,
 "nbformat_minor": 5
}
